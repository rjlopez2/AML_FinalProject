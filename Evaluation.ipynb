{
  "nbformat": 4,
  "nbformat_minor": 0,
  "metadata": {
    "colab": {
      "provenance": [],
      "authorship_tag": "ABX9TyMhjTw/5pCJ3Bl7SC77AwFF",
      "include_colab_link": true
    },
    "kernelspec": {
      "name": "python3",
      "display_name": "Python 3"
    },
    "language_info": {
      "name": "python"
    }
  },
  "cells": [
    {
      "cell_type": "markdown",
      "metadata": {
        "id": "view-in-github",
        "colab_type": "text"
      },
      "source": [
        "<a href=\"https://colab.research.google.com/github/tololojo/AML_FinalProject/blob/master/Evaluation.ipynb\" target=\"_parent\"><img src=\"https://colab.research.google.com/assets/colab-badge.svg\" alt=\"Open In Colab\"/></a>"
      ]
    },
    {
      "cell_type": "code",
      "execution_count": 7,
      "metadata": {
        "id": "BPfjFbOt3ryV"
      },
      "outputs": [],
      "source": [
        "import numpy as np\n",
        "import cv2\n",
        "import tensorflow as tf\n",
        "import torch\n",
        "import math\n",
        "import os\n",
        "from skimage.metrics import structural_similarity as ssim\n",
        "from skimage.color import deltaE_ciede2000\n",
        "from torchvision.transforms import ToTensor\n",
        "from torchvision import transforms"
      ]
    },
    {
      "cell_type": "code",
      "source": [
        "from google.colab import drive\n",
        "drive.mount('/content/drive')\n"
      ],
      "metadata": {
        "id": "3kilBynW7k2h",
        "outputId": "580e241f-53c0-461b-d083-d25ed60bbdaa",
        "colab": {
          "base_uri": "https://localhost:8080/"
        }
      },
      "execution_count": 5,
      "outputs": [
        {
          "output_type": "stream",
          "name": "stdout",
          "text": [
            "Mounted at /content/drive\n"
          ]
        }
      ]
    },
    {
      "cell_type": "code",
      "source": [
        "# Define the RGB to LAB and LAB to RGB conversion functions\n",
        "def RGB2LAB2(R0, G0, B0):\n",
        "    R = R0 / 255\n",
        "    G = G0 / 255\n",
        "    B = B0 / 255\n",
        "\n",
        "    Y = 0.299 * R + 0.587 * G + 0.114 * B\n",
        "    X = 0.449 * R + 0.353 * G + 0.198 * B\n",
        "    Z = 0.012 * R + 0.089 * G + 0.899 * B\n",
        "\n",
        "    L = Y\n",
        "    a = (X - Y) / 0.234\n",
        "    b = (Y - Z) / 0.785\n",
        "\n",
        "    return L, a, b\n",
        "\n",
        "def LAB22RGB(L, a, b):\n",
        "    a11 = 0.299\n",
        "    a12 = 0.587\n",
        "    a13 = 0.114\n",
        "    a21 = (0.15 / 0.234)\n",
        "    a22 = (-0.234 / 0.234)\n",
        "    a23 = (0.084 / 0.234)\n",
        "    a31 = (0.287 / 0.785)\n",
        "    a32 = (0.498 / 0.785)\n",
        "    a33 = (-0.785 / 0.785)\n",
        "\n",
        "    aa = np.array([[a11, a12, a13], [a21, a22, a23], [a31, a32, a33]])\n",
        "    C0 = np.zeros((L.shape[0], 3))\n",
        "    C0[:, 0] = L[:, 0]\n",
        "    C0[:, 1] = a[:, 0]\n",
        "    C0[:, 2] = b[:, 0]\n",
        "    C = np.transpose(C0)\n",
        "\n",
        "    X = np.linalg.inv(aa).dot(C)\n",
        "    X1D = np.reshape(X, (X.shape[0] * X.shape[1], 1))\n",
        "    p0 = np.where(X1D < 0)\n",
        "    X1D[p0[0]] = 0\n",
        "    p1 = np.where(X1D > 1)\n",
        "    X1D[p1[0]] = 1\n",
        "    Xr = np.reshape(X1D, (X.shape[0], X.shape[1]))\n",
        "\n",
        "    Rr = Xr[0][:]\n",
        "    Gr = Xr[1][:]\n",
        "    Br = Xr[2][:]\n",
        "\n",
        "    R = np.uint8(np.round(Rr * 255))\n",
        "    G = np.uint8(np.round(Gr * 255))\n",
        "    B = np.uint8(np.round(Br * 255))\n",
        "\n",
        "    return R, G, B\n",
        "\n",
        "# Define the transformation classes\n",
        "class ConvertRGBToFeedModel(torch.nn.Module):\n",
        "    def forward(self, img):\n",
        "        img = np.asarray(img)\n",
        "        sz0 = img.shape[0]\n",
        "        sz1 = img.shape[1]\n",
        "\n",
        "        train_imgs = np.zeros((sz0, sz1, 2))\n",
        "        train_input = np.zeros((sz0, sz1, 1))\n",
        "\n",
        "        ab = np.zeros((sz0, sz1, 2))\n",
        "        R1 = np.reshape(img[:, :, 0], (sz0 * sz1, 1))\n",
        "        G1 = np.reshape(img[:, :, 1], (sz0 * sz1, 1))\n",
        "        B1 = np.reshape(img[:, :, 2], (sz0 * sz1, 1))\n",
        "        L, A, B = RGB2LAB2(R1, G1, B1)\n",
        "        A = np.reshape(A, (sz0, sz1))\n",
        "        B = np.reshape(B, (sz0, sz1))\n",
        "        ab[:, :, 0] = A\n",
        "        ab[:, :, 1] = B\n",
        "        train_input[:, :, :] = np.reshape(L, (sz0, sz1, 1))\n",
        "        train_imgs[:, :, :] = np.reshape(ab, (sz0, sz1, 2))\n",
        "        return train_input, train_imgs\n",
        "\n",
        "class ConvertFromLABToRGB(torch.nn.Module):\n",
        "    def forward(self, img_raw):\n",
        "        image, _ = img_raw\n",
        "        sz0 = image.shape[1]\n",
        "        sz1 = image.shape[2]\n",
        "        LAB_img = np.reshape(image, (sz0 * sz1, 2))\n",
        "        L = LAB_img[:, 0:1]\n",
        "        a = LAB_img[:, 1:2]\n",
        "\n",
        "        R, G, B = LAB22RGB(L, a, a)\n",
        "        R = np.reshape(R, (sz0, sz1))\n",
        "        G = np.reshape(G, (sz0, sz1))\n",
        "        B = np.reshape(B, (sz0, sz1))\n",
        "        predicted255 = np.uint8(np.zeros((sz0, sz1, 3)))\n",
        "        predicted255[:, :, 0] = R\n",
        "        predicted255[:, :, 1] = G\n",
        "        predicted255[:, :, 2] = B\n",
        "        return predicted255"
      ],
      "metadata": {
        "id": "jXA3FYy75EkL"
      },
      "execution_count": 2,
      "outputs": []
    },
    {
      "cell_type": "code",
      "source": [
        "# Define the metric functions\n",
        "def mae(imageA, imageB, bands):\n",
        "    err = np.sum(np.abs(imageA.astype(\"float\") - imageB.astype(\"float\")))\n",
        "    err /= float(imageA.shape[0] * imageA.shape[1] * bands)\n",
        "    return err\n",
        "\n",
        "def psnr(img1, img2):\n",
        "    mse = np.mean((img1.astype(\"float\") - img2.astype(\"float\")) ** 2)\n",
        "    if mse == 0:\n",
        "        return 100\n",
        "    PIXEL_MAX = 255.0\n",
        "    return 20 * math.log10(PIXEL_MAX / math.sqrt(mse))\n",
        "\n",
        "def mse(imageA, imageB, nband):\n",
        "    err = np.sum((imageA.astype(\"float\") - imageB.astype(\"float\")) ** 2)\n",
        "    err /= float(imageA.shape[0] * imageA.shape[1] * nband)\n",
        "    return err\n",
        "\n",
        "def rmse(imageA, imageB, nband):\n",
        "    err = np.sum((imageA.astype(\"float\") - imageB.astype(\"float\")) ** 2)\n",
        "    err /= float(imageA.shape[0] * imageA.shape[1] * nband)\n",
        "    err = np.sqrt(err)\n",
        "    return err"
      ],
      "metadata": {
        "id": "ZH7imFVB5aXj"
      },
      "execution_count": 3,
      "outputs": []
    },
    {
      "cell_type": "code",
      "source": [
        "# Define the evaluation function\n",
        "def evaluate_model(model, model_type, filesTs_list, files_name1, bands, N, save_dir):\n",
        "    MSE_list = []\n",
        "    MAE_list = []\n",
        "    MSEr_list = []\n",
        "    MSEg_list = []\n",
        "    MSEb_list = []\n",
        "    RMSE_list = []\n",
        "    PSNR_list = []\n",
        "    SSIM_list = []\n",
        "    deltaE_list = []\n",
        "\n",
        "    for j1 in range(N):\n",
        "        print('Evaluating image = ', j1)\n",
        "        ima = cv2.imread(filesTs_list[j1])\n",
        "        ima0 = ima\n",
        "\n",
        "        sz0 = ima.shape[0]\n",
        "        sz1 = ima.shape[1]\n",
        "        sz2 = bands\n",
        "\n",
        "        ab = np.zeros((sz0, sz1, 2))\n",
        "        R1 = np.reshape(ima0[:, :, 0], (sz0 * sz1, 1))\n",
        "        G1 = np.reshape(ima0[:, :, 1], (sz0 * sz1, 1))\n",
        "        B1 = np.reshape(ima0[:, :, 2], (sz0 * sz1, 1))\n",
        "        L, A, B = RGB2LAB2(R1, G1, B1)\n",
        "        A = np.reshape(A, (sz0, sz1))\n",
        "        B = np.reshape(B, (sz0, sz1))\n",
        "        ab[:, :, 0] = A\n",
        "        ab[:, :, 1] = B\n",
        "        ima_gray = np.reshape(L, (1, sz0, sz1, 1))\n",
        "\n",
        "        if model_type == 'tensorflow':\n",
        "            predicted = model.predict(ima_gray, verbose=0)\n",
        "        elif model_type == 'pytorch':\n",
        "            model.eval()\n",
        "            with torch.no_grad():\n",
        "                ima_gray_tensor = torch.from_numpy(ima_gray).float().unsqueeze(0)\n",
        "                predicted_tensor = model(ima_gray_tensor)\n",
        "                predicted = predicted_tensor.squeeze(0).numpy()\n",
        "\n",
        "        predicted = np.reshape(predicted, (sz0 * sz1, bands))\n",
        "        Ar = predicted[:, 0:1]\n",
        "        Br = predicted[:, 1:2]\n",
        "\n",
        "        Rr, Gr, Br = LAB22RGB(L, Ar, Br)\n",
        "        Rr = np.reshape(Rr, (sz0, sz1))\n",
        "        Gr = np.reshape(Gr, (sz0, sz1))\n",
        "        Br = np.reshape(Br, (sz0, sz1))\n",
        "        predicted255 = np.uint8(np.zeros((sz0, sz1, 3)))\n",
        "        predicted255[:, :, 0] = Rr\n",
        "        predicted255[:, :, 1] = Gr\n",
        "        predicted255[:, :, 2] = Br\n",
        "\n",
        "        # Save the generated image\n",
        "        save_generated_image(predicted255, files_name1[j1], save_dir)\n",
        "\n",
        "        MSE = mse(ima0, predicted255, 3)\n",
        "        MSEr = mse(ima0[:, :, 0], predicted255[:, :, 0], 1)\n",
        "        MSEg = mse(ima0[:, :, 1], predicted255[:, :, 1], 1)\n",
        "        MSEb = mse(ima0[:, :, 2], predicted255[:, :, 2], 1)\n",
        "        MAE = mae(ima0, predicted255, 3)\n",
        "        RMSE = rmse(ima0, predicted255, 3)\n",
        "        PSNR = psnr(ima0, predicted255)\n",
        "        SSIM = ssim(ima0, predicted255, multichannel=True)\n",
        "        deltaE_avg = np.mean(deltaE_ciede2000(L, Ar))\n",
        "\n",
        "        MSE_list.append(MSE)\n",
        "        MAE_list.append(MAE)\n",
        "        MSEr_list.append(MSEr)\n",
        "        MSEg_list.append(MSEg)\n",
        "        MSEb_list.append(MSEb)\n",
        "        RMSE_list.append(RMSE)\n",
        "        PSNR_list.append(PSNR)\n",
        "        SSIM_list.append(SSIM)\n",
        "        deltaE_list.append(deltaE_avg)\n",
        "\n",
        "    MSE_mean = np.mean(MSE_list)\n",
        "    MAE_mean = np.mean(MAE_list)\n",
        "    MSEr_mean = np.mean(MSEr_list)\n",
        "    MSEg_mean = np.mean(MSEg_list)\n",
        "    MSEb_mean = np.mean(MSEb_list)\n",
        "    RMSE_mean = np.mean(RMSE_list)\n",
        "    PSNR_mean = np.mean(PSNR_list)\n",
        "    SSIM_mean = np.mean(SSIM_list)\n",
        "    deltaE_mean = np.mean(deltaE_list)\n",
        "\n",
        "    print(\"Evaluation Results:\")\n",
        "    print(f\"MSE Mean: {MSE_mean}\")\n",
        "    print(f\"MAE Mean: {MAE_mean}\")\n",
        "    print(f\"MSEr Mean: {MSEr_mean}\")\n",
        "    print(f\"MSEg Mean: {MSEg_mean}\")\n",
        "    print(f\"MSEb Mean: {MSEb_mean}\")\n",
        "    print(f\"RMSE Mean: {RMSE_mean}\")\n",
        "    print(f\"PSNR Mean: {PSNR_mean}\")\n",
        "    print(f\"SSIM Mean: {SSIM_mean}\")\n",
        "    print(f\"DeltaE Mean: {deltaE_mean}\")\n"
      ],
      "metadata": {
        "id": "16J_u1WmECG_"
      },
      "execution_count": null,
      "outputs": []
    },
    {
      "cell_type": "code",
      "source": [
        "# Define a function to save the generated images\n",
        "def save_generated_image(image, filename, save_dir, file_extension='tif'):\n",
        "    \"\"\"\n",
        "    Save the generated image to the specified directory.\n",
        "\n",
        "    Args:\n",
        "    - image: The generated image.\n",
        "    - filename: The name of the file.\n",
        "    - save_dir: The directory where the image will be saved.\n",
        "    - file_extension: The file extension of the image (default: 'tif').\n",
        "    \"\"\"\n",
        "    # Construct the full path for saving the image\n",
        "    save_path = os.path.join(save_dir, f\"{filename}.{file_extension}\")\n",
        "    # Save the image\n",
        "    cv2.imwrite(save_path, image)\n"
      ],
      "metadata": {
        "id": "LKJulrgrEdtL"
      },
      "execution_count": 16,
      "outputs": []
    },
    {
      "cell_type": "code",
      "source": [
        "# EDefine the paths\n",
        "data_path = '/content/drive/MyDrive/CAS Advanced Machine Learning/Luftbild_Colorization/Evaluation_Images'\n",
        "save_dir = '/content/drive/MyDrive/CAS Advanced Machine Learning/Luftbild_Colorization/Evaluation_Results'\n",
        "file_extension = 'jpeg'  # Change this to the desired file extension"
      ],
      "metadata": {
        "id": "JfNJz6rGEow8"
      },
      "execution_count": 17,
      "outputs": []
    },
    {
      "cell_type": "code",
      "source": [
        "# Get the list of files in the test images directory\n",
        "filesTs_list = [os.path.join(data_path, file) for file in os.listdir(data_path)]\n",
        "files_name1 = [os.path.splitext(os.path.basename(file))[0] for file in filesTs_list]\n",
        "bands = 3\n",
        "# Number of test images\n",
        "N = len(filesTs_list)\n",
        "print(N)"
      ],
      "metadata": {
        "id": "uHyvDjXnB6kB",
        "outputId": "2c329061-e01f-4bdd-aa26-999f03bd7988",
        "colab": {
          "base_uri": "https://localhost:8080/"
        }
      },
      "execution_count": 18,
      "outputs": [
        {
          "output_type": "stream",
          "name": "stdout",
          "text": [
            "72\n"
          ]
        }
      ]
    },
    {
      "cell_type": "code",
      "source": [
        "files_name1"
      ],
      "metadata": {
        "id": "yGBeSs5dCJ-0",
        "outputId": "62127bfc-ecf4-4c9c-b13b-abb942b844d1",
        "colab": {
          "base_uri": "https://localhost:8080/"
        }
      },
      "execution_count": 14,
      "outputs": [
        {
          "output_type": "execute_result",
          "data": {
            "text/plain": [
              "['image_71_lat_46.42641854173257_lon_8.11771951517454_zoom_18_class_66',\n",
              " 'image_69_lat_47.146173793218885_lon_7.591563788353546_zoom_17_class_52',\n",
              " 'image_70_lat_46.488934064375385_lon_7.833269697917848_zoom_17_class_72',\n",
              " 'image_44_lat_46.058235729742925_lon_7.999434279555997_zoom_17_class_62',\n",
              " 'image_40_lat_46.313418953576075_lon_7.860558379522397_zoom_18_class_20',\n",
              " 'image_42_lat_47.109908681704304_lon_9.281995061874811_zoom_18_class_16',\n",
              " 'image_41_lat_46.03253915279717_lon_7.591047201409353_zoom_18_class_69',\n",
              " 'image_43_lat_46.64989247422142_lon_9.403495251144596_zoom_17_class_45',\n",
              " 'image_39_lat_46.461119565860315_lon_6.854157677314347_zoom_18_class_9',\n",
              " 'image_29_lat_46.49679251748776_lon_7.370905677776521_zoom_16_class_11',\n",
              " 'image_12_lat_46.473404345753906_lon_6.426936994655842_zoom_17_class_19',\n",
              " 'image_13_lat_47.04705624800896_lon_7.958440499076391_zoom_16_class_51',\n",
              " 'image_11_lat_46.16221238086289_lon_8.861479418973186_zoom_18_class_67',\n",
              " 'image_27_lat_47.52452191086445_lon_7.749327041811129_zoom_17_class_15',\n",
              " 'image_25_lat_46.73465488259584_lon_7.790580307373664_zoom_16_class_59',\n",
              " 'image_28_lat_47.42970025679866_lon_8.338609598832493_zoom_17_class_44',\n",
              " 'image_26_lat_47.483103704485984_lon_8.294400312957507_zoom_17_class_8',\n",
              " 'image_24_lat_46.74089703808261_lon_8.91862581554883_zoom_18_class_56',\n",
              " 'image_30_lat_47.326306548858916_lon_9.363576190120076_zoom_17_class_33',\n",
              " 'image_33_lat_46.871507805886075_lon_7.98822718810819_zoom_18_class_54',\n",
              " 'image_31_lat_47.36476156731356_lon_8.563904377581222_zoom_18_class_10',\n",
              " 'image_36_lat_46.690404565116026_lon_7.8425836107830005_zoom_17_class_2',\n",
              " 'image_34_lat_46.39981965376317_lon_9.235761814683624_zoom_16_class_13',\n",
              " 'image_37_lat_46.58867182273001_lon_8.787873396998354_zoom_16_class_49',\n",
              " 'image_32_lat_47.122723749749326_lon_7.633667702331137_zoom_16_class_7',\n",
              " 'image_9_lat_46.31499929149943_lon_7.5918348527010755_zoom_16_class_39',\n",
              " 'image_14_lat_46.95754376139573_lon_6.827723005201979_zoom_18_class_21',\n",
              " 'image_10_lat_47.12910432871373_lon_7.304194983457186_zoom_17_class_14',\n",
              " 'image_57_lat_47.35102361301144_lon_8.275075078263582_zoom_16_class_31',\n",
              " 'image_55_lat_47.625913811077176_lon_9.192147075290999_zoom_18_class_30',\n",
              " 'image_54_lat_46.49141430400556_lon_7.420406013109998_zoom_17_class_23',\n",
              " 'image_59_lat_46.46718323843406_lon_9.1859070612757_zoom_17_class_34',\n",
              " 'image_56_lat_46.31831521314425_lon_7.7346588857728555_zoom_18_class_60',\n",
              " 'image_58_lat_47.55815786498116_lon_7.552884312758325_zoom_17_class_29',\n",
              " 'image_68_lat_47.203744718858104_lon_9.022523382062856_zoom_16_class_63',\n",
              " 'image_38_lat_47.21281651124669_lon_8.459053241029302_zoom_16_class_27',\n",
              " 'image_66_lat_45.979237502426436_lon_7.712183976637736_zoom_18_class_68',\n",
              " 'image_60_lat_46.57158115618898_lon_8.330862474698103_zoom_18_class_24',\n",
              " 'image_63_lat_46.97345262645982_lon_8.102290543649138_zoom_17_class_36',\n",
              " 'image_64_lat_46.22232184992144_lon_7.271458384355547_zoom_17_class_5',\n",
              " 'image_67_lat_46.82763697684961_lon_7.943218533979311_zoom_16_class_71',\n",
              " 'image_61_lat_47.31130716700322_lon_8.688427693985062_zoom_16_class_25',\n",
              " 'image_62_lat_47.507146687352034_lon_9.19353903255764_zoom_17_class_37',\n",
              " 'image_53_lat_46.675326923421096_lon_8.50640732204883_zoom_17_class_47',\n",
              " 'image_45_lat_46.842702171187995_lon_9.165315794438374_zoom_18_class_48',\n",
              " 'image_46_lat_47.35224793681068_lon_8.555698486048447_zoom_16_class_32',\n",
              " 'image_50_lat_47.39826547856334_lon_8.715639306351168_zoom_18_class_40',\n",
              " 'image_51_lat_47.29824863774489_lon_8.558535313142146_zoom_16_class_6',\n",
              " 'image_48_lat_47.12361429816376_lon_8.740722028450639_zoom_16_class_1',\n",
              " 'image_47_lat_46.300821804829425_lon_8.622366932673048_zoom_17_class_28',\n",
              " 'image_52_lat_46.440986869220694_lon_9.561239629642829_zoom_16_class_64',\n",
              " 'image_22_lat_47.453768686272724_lon_8.568438636036417_zoom_17_class_22',\n",
              " 'image_21_lat_46.85601432139498_lon_7.063603709314859_zoom_16_class_3',\n",
              " 'image_23_lat_46.81341585798266_lon_7.534283291403405_zoom_16_class_38',\n",
              " 'image_1_lat_47.52939123286463_lon_7.538215832821644_zoom_16_class_50',\n",
              " 'image_5_lat_47.178162369287314_lon_7.776342537061685_zoom_17_class_4',\n",
              " 'image_3_lat_47.124278827901904_lon_7.745692324562706_zoom_18_class_41',\n",
              " 'image_4_lat_46.80712815759168_lon_6.978787477087323_zoom_18_class_43',\n",
              " 'image_0_lat_47.21936755561625_lon_8.930554010779593_zoom_18_class_61',\n",
              " 'image_7_lat_46.58229781476756_lon_9.788668251126913_zoom_17_class_46',\n",
              " 'image_2_lat_46.736853290896725_lon_8.95253924606537_zoom_16_class_42',\n",
              " 'image_8_lat_47.10091838125911_lon_7.143556439998852_zoom_18_class_18',\n",
              " 'image_19_lat_46.406025846748385_lon_10.069869594515568_zoom_18_class_55',\n",
              " 'image_17_lat_46.93712056712475_lon_7.999403952674322_zoom_16_class_12',\n",
              " 'image_18_lat_47.35528886898617_lon_8.177192312692894_zoom_16_class_58',\n",
              " 'image_15_lat_47.62609410718689_lon_9.180177035158781_zoom_18_class_53',\n",
              " 'image_16_lat_46.153149908474525_lon_7.355806274520264_zoom_18_class_65',\n",
              " 'image_65_lat_47.323674290203094_lon_7.839433654639941_zoom_17_class_26',\n",
              " 'image_35_lat_46.71938239798445_lon_10.216033948263302_zoom_16_class_70',\n",
              " 'image_6_lat_46.617672658037804_lon_6.7036282668557075_zoom_17_class_17',\n",
              " 'image_49_lat_47.04019725981459_lon_9.072967762679534_zoom_17_class_35',\n",
              " 'image_20_lat_46.135269457293_lon_9.119617887366342_zoom_17_class_57']"
            ]
          },
          "metadata": {},
          "execution_count": 14
        }
      ]
    },
    {
      "cell_type": "code",
      "source": [
        "# Loop over the images and save them\n",
        "for j1 in range(N):\n",
        "    save_generated_image(predicted255, files_name1[j1], save_dir, file_extension)"
      ],
      "metadata": {
        "id": "BTwnp6UVFHPY"
      },
      "execution_count": null,
      "outputs": []
    },
    {
      "cell_type": "code",
      "source": [
        "# Load your models\n",
        "tensorflow_model = tf.keras.models.load_model('path/to/tensorflow_model.h5')\n",
        "pytorch_model = torch.load('path/to/pytorch_model.pth')\n"
      ],
      "metadata": {
        "id": "Q3PGCoIs5967"
      },
      "execution_count": null,
      "outputs": []
    },
    {
      "cell_type": "code",
      "source": [
        "# Evaluate the TensorFlow model\n",
        "print(\"Evaluating TensorFlow model...\")\n",
        "evaluate_model(tensorflow_model, 'tensorflow', filesTs_list, files_name1, bands, N, cwd)\n"
      ],
      "metadata": {
        "id": "SWeq7avK5-z0"
      },
      "execution_count": null,
      "outputs": []
    }
  ]
}